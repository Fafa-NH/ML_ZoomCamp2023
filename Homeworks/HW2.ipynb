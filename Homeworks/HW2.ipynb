{
 "cells": [
  {
   "cell_type": "code",
   "execution_count": 1,
   "id": "1909c9d9",
   "metadata": {},
   "outputs": [],
   "source": [
    "import pandas as pd                                           ##\n",
    "import numpy as np"
   ]
  },
  {
   "cell_type": "markdown",
   "id": "31a7b22c",
   "metadata": {},
   "source": [
    "# Dataset- Load"
   ]
  },
  {
   "cell_type": "code",
   "execution_count": 2,
   "id": "260c6725",
   "metadata": {},
   "outputs": [
    {
     "data": {
      "text/html": [
       "<div>\n",
       "<style scoped>\n",
       "    .dataframe tbody tr th:only-of-type {\n",
       "        vertical-align: middle;\n",
       "    }\n",
       "\n",
       "    .dataframe tbody tr th {\n",
       "        vertical-align: top;\n",
       "    }\n",
       "\n",
       "    .dataframe thead th {\n",
       "        text-align: right;\n",
       "    }\n",
       "</style>\n",
       "<table border=\"1\" class=\"dataframe\">\n",
       "  <thead>\n",
       "    <tr style=\"text-align: right;\">\n",
       "      <th></th>\n",
       "      <th>longitude</th>\n",
       "      <th>latitude</th>\n",
       "      <th>housing_median_age</th>\n",
       "      <th>total_rooms</th>\n",
       "      <th>total_bedrooms</th>\n",
       "      <th>population</th>\n",
       "      <th>households</th>\n",
       "      <th>median_income</th>\n",
       "      <th>median_house_value</th>\n",
       "      <th>ocean_proximity</th>\n",
       "    </tr>\n",
       "  </thead>\n",
       "  <tbody>\n",
       "    <tr>\n",
       "      <th>0</th>\n",
       "      <td>-122.23</td>\n",
       "      <td>37.88</td>\n",
       "      <td>41.0</td>\n",
       "      <td>880.0</td>\n",
       "      <td>129.0</td>\n",
       "      <td>322.0</td>\n",
       "      <td>126.0</td>\n",
       "      <td>8.3252</td>\n",
       "      <td>452600.0</td>\n",
       "      <td>NEAR BAY</td>\n",
       "    </tr>\n",
       "    <tr>\n",
       "      <th>1</th>\n",
       "      <td>-122.22</td>\n",
       "      <td>37.86</td>\n",
       "      <td>21.0</td>\n",
       "      <td>7099.0</td>\n",
       "      <td>1106.0</td>\n",
       "      <td>2401.0</td>\n",
       "      <td>1138.0</td>\n",
       "      <td>8.3014</td>\n",
       "      <td>358500.0</td>\n",
       "      <td>NEAR BAY</td>\n",
       "    </tr>\n",
       "    <tr>\n",
       "      <th>2</th>\n",
       "      <td>-122.24</td>\n",
       "      <td>37.85</td>\n",
       "      <td>52.0</td>\n",
       "      <td>1467.0</td>\n",
       "      <td>190.0</td>\n",
       "      <td>496.0</td>\n",
       "      <td>177.0</td>\n",
       "      <td>7.2574</td>\n",
       "      <td>352100.0</td>\n",
       "      <td>NEAR BAY</td>\n",
       "    </tr>\n",
       "    <tr>\n",
       "      <th>3</th>\n",
       "      <td>-122.25</td>\n",
       "      <td>37.85</td>\n",
       "      <td>52.0</td>\n",
       "      <td>1274.0</td>\n",
       "      <td>235.0</td>\n",
       "      <td>558.0</td>\n",
       "      <td>219.0</td>\n",
       "      <td>5.6431</td>\n",
       "      <td>341300.0</td>\n",
       "      <td>NEAR BAY</td>\n",
       "    </tr>\n",
       "    <tr>\n",
       "      <th>4</th>\n",
       "      <td>-122.25</td>\n",
       "      <td>37.85</td>\n",
       "      <td>52.0</td>\n",
       "      <td>1627.0</td>\n",
       "      <td>280.0</td>\n",
       "      <td>565.0</td>\n",
       "      <td>259.0</td>\n",
       "      <td>3.8462</td>\n",
       "      <td>342200.0</td>\n",
       "      <td>NEAR BAY</td>\n",
       "    </tr>\n",
       "    <tr>\n",
       "      <th>...</th>\n",
       "      <td>...</td>\n",
       "      <td>...</td>\n",
       "      <td>...</td>\n",
       "      <td>...</td>\n",
       "      <td>...</td>\n",
       "      <td>...</td>\n",
       "      <td>...</td>\n",
       "      <td>...</td>\n",
       "      <td>...</td>\n",
       "      <td>...</td>\n",
       "    </tr>\n",
       "    <tr>\n",
       "      <th>20635</th>\n",
       "      <td>-121.09</td>\n",
       "      <td>39.48</td>\n",
       "      <td>25.0</td>\n",
       "      <td>1665.0</td>\n",
       "      <td>374.0</td>\n",
       "      <td>845.0</td>\n",
       "      <td>330.0</td>\n",
       "      <td>1.5603</td>\n",
       "      <td>78100.0</td>\n",
       "      <td>INLAND</td>\n",
       "    </tr>\n",
       "    <tr>\n",
       "      <th>20636</th>\n",
       "      <td>-121.21</td>\n",
       "      <td>39.49</td>\n",
       "      <td>18.0</td>\n",
       "      <td>697.0</td>\n",
       "      <td>150.0</td>\n",
       "      <td>356.0</td>\n",
       "      <td>114.0</td>\n",
       "      <td>2.5568</td>\n",
       "      <td>77100.0</td>\n",
       "      <td>INLAND</td>\n",
       "    </tr>\n",
       "    <tr>\n",
       "      <th>20637</th>\n",
       "      <td>-121.22</td>\n",
       "      <td>39.43</td>\n",
       "      <td>17.0</td>\n",
       "      <td>2254.0</td>\n",
       "      <td>485.0</td>\n",
       "      <td>1007.0</td>\n",
       "      <td>433.0</td>\n",
       "      <td>1.7000</td>\n",
       "      <td>92300.0</td>\n",
       "      <td>INLAND</td>\n",
       "    </tr>\n",
       "    <tr>\n",
       "      <th>20638</th>\n",
       "      <td>-121.32</td>\n",
       "      <td>39.43</td>\n",
       "      <td>18.0</td>\n",
       "      <td>1860.0</td>\n",
       "      <td>409.0</td>\n",
       "      <td>741.0</td>\n",
       "      <td>349.0</td>\n",
       "      <td>1.8672</td>\n",
       "      <td>84700.0</td>\n",
       "      <td>INLAND</td>\n",
       "    </tr>\n",
       "    <tr>\n",
       "      <th>20639</th>\n",
       "      <td>-121.24</td>\n",
       "      <td>39.37</td>\n",
       "      <td>16.0</td>\n",
       "      <td>2785.0</td>\n",
       "      <td>616.0</td>\n",
       "      <td>1387.0</td>\n",
       "      <td>530.0</td>\n",
       "      <td>2.3886</td>\n",
       "      <td>89400.0</td>\n",
       "      <td>INLAND</td>\n",
       "    </tr>\n",
       "  </tbody>\n",
       "</table>\n",
       "<p>20640 rows × 10 columns</p>\n",
       "</div>"
      ],
      "text/plain": [
       "       longitude  latitude  housing_median_age  total_rooms  total_bedrooms  \\\n",
       "0        -122.23     37.88                41.0        880.0           129.0   \n",
       "1        -122.22     37.86                21.0       7099.0          1106.0   \n",
       "2        -122.24     37.85                52.0       1467.0           190.0   \n",
       "3        -122.25     37.85                52.0       1274.0           235.0   \n",
       "4        -122.25     37.85                52.0       1627.0           280.0   \n",
       "...          ...       ...                 ...          ...             ...   \n",
       "20635    -121.09     39.48                25.0       1665.0           374.0   \n",
       "20636    -121.21     39.49                18.0        697.0           150.0   \n",
       "20637    -121.22     39.43                17.0       2254.0           485.0   \n",
       "20638    -121.32     39.43                18.0       1860.0           409.0   \n",
       "20639    -121.24     39.37                16.0       2785.0           616.0   \n",
       "\n",
       "       population  households  median_income  median_house_value  \\\n",
       "0           322.0       126.0         8.3252            452600.0   \n",
       "1          2401.0      1138.0         8.3014            358500.0   \n",
       "2           496.0       177.0         7.2574            352100.0   \n",
       "3           558.0       219.0         5.6431            341300.0   \n",
       "4           565.0       259.0         3.8462            342200.0   \n",
       "...           ...         ...            ...                 ...   \n",
       "20635       845.0       330.0         1.5603             78100.0   \n",
       "20636       356.0       114.0         2.5568             77100.0   \n",
       "20637      1007.0       433.0         1.7000             92300.0   \n",
       "20638       741.0       349.0         1.8672             84700.0   \n",
       "20639      1387.0       530.0         2.3886             89400.0   \n",
       "\n",
       "      ocean_proximity  \n",
       "0            NEAR BAY  \n",
       "1            NEAR BAY  \n",
       "2            NEAR BAY  \n",
       "3            NEAR BAY  \n",
       "4            NEAR BAY  \n",
       "...               ...  \n",
       "20635          INLAND  \n",
       "20636          INLAND  \n",
       "20637          INLAND  \n",
       "20638          INLAND  \n",
       "20639          INLAND  \n",
       "\n",
       "[20640 rows x 10 columns]"
      ]
     },
     "execution_count": 2,
     "metadata": {},
     "output_type": "execute_result"
    }
   ],
   "source": [
    "df_orig = pd.read_csv(r'C:\\Users\\Faezeh\\Downloads\\housing.csv')       ##\n",
    "df_orig"
   ]
  },
  {
   "cell_type": "markdown",
   "id": "ebc7f863",
   "metadata": {},
   "source": [
    "# EDA"
   ]
  },
  {
   "cell_type": "code",
   "execution_count": 3,
   "id": "bdfc9b24",
   "metadata": {},
   "outputs": [],
   "source": [
    "import matplotlib.pyplot as plt                                     ##\n",
    "import seaborn as sns"
   ]
  },
  {
   "cell_type": "code",
   "execution_count": 4,
   "id": "cd30ecd1",
   "metadata": {},
   "outputs": [
    {
     "data": {
      "text/plain": [
       "20640"
      ]
     },
     "execution_count": 4,
     "metadata": {},
     "output_type": "execute_result"
    }
   ],
   "source": [
    "len(df_orig)"
   ]
  },
  {
   "cell_type": "code",
   "execution_count": 5,
   "id": "6e2d8e96",
   "metadata": {},
   "outputs": [
    {
     "data": {
      "text/plain": [
       "Index(['longitude', 'latitude', 'housing_median_age', 'total_rooms',\n",
       "       'total_bedrooms', 'population', 'households', 'median_income',\n",
       "       'median_house_value', 'ocean_proximity'],\n",
       "      dtype='object')"
      ]
     },
     "execution_count": 5,
     "metadata": {},
     "output_type": "execute_result"
    }
   ],
   "source": [
    "df_orig.columns                                                             ##"
   ]
  },
  {
   "cell_type": "code",
   "execution_count": 6,
   "id": "b321f2cf",
   "metadata": {},
   "outputs": [
    {
     "data": {
      "text/plain": [
       "<Axes: xlabel='median_house_value', ylabel='Count'>"
      ]
     },
     "execution_count": 6,
     "metadata": {},
     "output_type": "execute_result"
    },
    {
     "data": {
      "image/png": "[encoded data removed]",
      "text/plain": [
       "<Figure size 640x480 with 1 Axes>"
      ]
     },
     "metadata": {},
     "output_type": "display_data"
    }
   ],
   "source": [
    "sns.histplot(df_orig['median_house_value'], bins = 50)                   ##"
   ]
  },
  {
   "cell_type": "markdown",
   "id": "90063857",
   "metadata": {},
   "source": [
    "# Preparing the dataset"
   ]
  },
  {
   "cell_type": "code",
   "execution_count": 7,
   "id": "1c7d6a15",
   "metadata": {},
   "outputs": [],
   "source": [
    "df_orig_copy = df_orig.copy()                                           ##    #~"
   ]
  },
  {
   "cell_type": "code",
   "execution_count": 8,
   "id": "65744f2e",
   "metadata": {},
   "outputs": [
    {
     "data": {
      "text/plain": [
       "count     20640.00\n",
       "mean     206855.82\n",
       "std      115395.62\n",
       "min       14999.00\n",
       "25%      119600.00\n",
       "50%      179700.00\n",
       "75%      264725.00\n",
       "max      500001.00\n",
       "Name: median_house_value, dtype: float64"
      ]
     },
     "execution_count": 8,
     "metadata": {},
     "output_type": "execute_result"
    }
   ],
   "source": [
    "df_orig['median_house_value'].describe().round(2)              ##"
   ]
  },
  {
   "cell_type": "code",
   "execution_count": 9,
   "id": "94a479f1",
   "metadata": {},
   "outputs": [
    {
     "data": {
      "text/plain": [
       "0"
      ]
     },
     "execution_count": 9,
     "metadata": {},
     "output_type": "execute_result"
    }
   ],
   "source": [
    "df_orig['median_house_value'].isna().sum()                       ##"
   ]
  },
  {
   "cell_type": "code",
   "execution_count": 10,
   "id": "08af0eda",
   "metadata": {},
   "outputs": [
    {
     "data": {
      "text/plain": [
       "array(['NEAR BAY', '<1H OCEAN', 'INLAND', 'NEAR OCEAN', 'ISLAND'],\n",
       "      dtype=object)"
      ]
     },
     "execution_count": 10,
     "metadata": {},
     "output_type": "execute_result"
    }
   ],
   "source": [
    "df_orig['ocean_proximity'].unique()                              ##"
   ]
  },
  {
   "cell_type": "code",
   "execution_count": 11,
   "id": "f0900c01",
   "metadata": {},
   "outputs": [],
   "source": [
    "#df = df[ [df['ocean_proximity'] == '<1H OCEAN']  or  [df['ocean_proximity'] == 'INLAND' ] ]\n"
   ]
  },
  {
   "cell_type": "code",
   "execution_count": 12,
   "id": "93446533",
   "metadata": {},
   "outputs": [],
   "source": [
    "# Filter the dataset/dataframe- Selecting rows, where ocean_proximity is either '<1H OCEAN' or 'INLAND' \n",
    "df = df_orig[ (df_orig['ocean_proximity'] == '<1H OCEAN')  |  (df_orig['ocean_proximity'] == 'INLAND' ) ]\n",
    "#df_filtered"
   ]
  },
  {
   "cell_type": "code",
   "execution_count": 13,
   "id": "2bf127d4",
   "metadata": {},
   "outputs": [],
   "source": [
    "# Selecting rows, where ocean_proximity is either '<1H OCEAN' or 'INLAND' \n",
    "##condition1 = df[ df['ocean_proximity'] == '<1H OCEAN' ]\n",
    "#condition1 =  df['ocean_proximity'] == '<1H OCEAN'                            ##\n",
    "#condition1"
   ]
  },
  {
   "cell_type": "code",
   "execution_count": 14,
   "id": "8756232a",
   "metadata": {},
   "outputs": [],
   "source": [
    "##condition2 = df[ df['ocean_proximity'] == 'INLAND' ]\n",
    "#condition2 = df['ocean_proximity'] == 'INLAND'                                 ##\n",
    "#condition2"
   ]
  },
  {
   "cell_type": "code",
   "execution_count": 15,
   "id": "7e8e87d3",
   "metadata": {
    "scrolled": true
   },
   "outputs": [],
   "source": [
    "##df_filtered = condition1 | condition2\n",
    "#df_filtered = df[condition1 | condition2]                  ##\n",
    "#df_filtered"
   ]
  },
  {
   "cell_type": "code",
   "execution_count": 16,
   "id": "4934043c",
   "metadata": {},
   "outputs": [
    {
     "data": {
      "text/plain": [
       "Index(['longitude', 'latitude', 'housing_median_age', 'total_rooms',\n",
       "       'total_bedrooms', 'population', 'households', 'median_income',\n",
       "       'median_house_value', 'ocean_proximity'],\n",
       "      dtype='object')"
      ]
     },
     "execution_count": 16,
     "metadata": {},
     "output_type": "execute_result"
    }
   ],
   "source": [
    "df.columns                    ##"
   ]
  },
  {
   "cell_type": "code",
   "execution_count": 17,
   "id": "f385c3f1",
   "metadata": {},
   "outputs": [],
   "source": [
    "#np.asarray(df_filtered.columns)\n",
    "#number_of_columns = len(df_filtered.columns)\n",
    "#number_of_columns"
   ]
  },
  {
   "cell_type": "code",
   "execution_count": 18,
   "id": "edd2395a",
   "metadata": {},
   "outputs": [],
   "source": [
    "#df_filtered = df_filtered.columns[:len(df_filtered.columns) - 1]\n",
    "#df_filtered"
   ]
  },
  {
   "cell_type": "code",
   "execution_count": 19,
   "id": "0a445644",
   "metadata": {},
   "outputs": [],
   "source": [
    "# Selecting columns\n",
    "df = df[['longitude', 'latitude', 'housing_median_age', 'total_rooms',\n",
    "       'total_bedrooms', 'population', 'households', 'median_income',\n",
    "       'median_house_value']]                                                                            ##\n",
    "#df"
   ]
  },
  {
   "cell_type": "code",
   "execution_count": 20,
   "id": "86f2ccb8",
   "metadata": {},
   "outputs": [
    {
     "data": {
      "text/plain": [
       "15687"
      ]
     },
     "execution_count": 20,
     "metadata": {},
     "output_type": "execute_result"
    }
   ],
   "source": [
    "len(df)"
   ]
  },
  {
   "cell_type": "code",
   "execution_count": 21,
   "id": "38a34ba6",
   "metadata": {},
   "outputs": [],
   "source": [
    "#df['longitude']"
   ]
  },
  {
   "cell_type": "code",
   "execution_count": 22,
   "id": "665dc45e",
   "metadata": {},
   "outputs": [],
   "source": [
    "#df_filtered[['longitude', 'latitude']]\n"
   ]
  },
  {
   "cell_type": "markdown",
   "id": "9596aaf6",
   "metadata": {},
   "source": [
    "## Q1"
   ]
  },
  {
   "cell_type": "code",
   "execution_count": 23,
   "id": "0498cea5",
   "metadata": {},
   "outputs": [
    {
     "data": {
      "text/plain": [
       "longitude               0\n",
       "latitude                0\n",
       "housing_median_age      0\n",
       "total_rooms             0\n",
       "total_bedrooms        157\n",
       "population              0\n",
       "households              0\n",
       "median_income           0\n",
       "median_house_value      0\n",
       "dtype: int64"
      ]
     },
     "execution_count": 23,
     "metadata": {},
     "output_type": "execute_result"
    }
   ],
   "source": [
    "df.isna().sum()   ##"
   ]
  },
  {
   "cell_type": "markdown",
   "id": "0c6d1e7a",
   "metadata": {},
   "source": [
    "## Q2"
   ]
  },
  {
   "cell_type": "code",
   "execution_count": 24,
   "id": "fb506ef5",
   "metadata": {},
   "outputs": [
    {
     "data": {
      "text/plain": [
       "count    15687.00\n",
       "mean      1466.32\n",
       "std       1180.39\n",
       "min          3.00\n",
       "25%        802.00\n",
       "50%       1195.00\n",
       "75%       1777.00\n",
       "max      35682.00\n",
       "Name: population, dtype: float64"
      ]
     },
     "execution_count": 24,
     "metadata": {},
     "output_type": "execute_result"
    }
   ],
   "source": [
    "df['population'].describe().round(2)   ##"
   ]
  },
  {
   "cell_type": "code",
   "execution_count": 25,
   "id": "22e3120a",
   "metadata": {},
   "outputs": [
    {
     "data": {
      "text/plain": [
       "1195.0"
      ]
     },
     "execution_count": 25,
     "metadata": {},
     "output_type": "execute_result"
    }
   ],
   "source": [
    "df['population'].median()    ##"
   ]
  },
  {
   "cell_type": "markdown",
   "id": "499fb252",
   "metadata": {},
   "source": [
    "## Prepare and split the dataset"
   ]
  },
  {
   "cell_type": "code",
   "execution_count": 26,
   "id": "f028769f",
   "metadata": {},
   "outputs": [],
   "source": [
    "# Set Random Seed 42 and shuffle the dataset\n",
    "np.random.seed(42)                                        ##\n",
    "df_len = len(df)\n",
    "idx = np.arange(df_len)\n",
    "np.random.shuffle(idx)\n",
    "df_shuffled = df.iloc[idx]"
   ]
  },
  {
   "cell_type": "code",
   "execution_count": 27,
   "id": "d4bda6d0",
   "metadata": {},
   "outputs": [],
   "source": [
    "np.random.seed(42)\n",
    "val_size = int(df_len * 0.2)                                   ##\n",
    "test_size = int(df_len * 0.2)\n",
    "train_size = df_len - (val_size + test_size)\n",
    "#train_size2 = len(df_filtered) - val_size - test_size"
   ]
  },
  {
   "cell_type": "code",
   "execution_count": 28,
   "id": "75212af3",
   "metadata": {},
   "outputs": [
    {
     "data": {
      "text/plain": [
       "(9413, 3137, 3137)"
      ]
     },
     "execution_count": 28,
     "metadata": {},
     "output_type": "execute_result"
    }
   ],
   "source": [
    "train_size, val_size, test_size, #train_size2                             ##"
   ]
  },
  {
   "cell_type": "code",
   "execution_count": 29,
   "id": "ad7a5460",
   "metadata": {},
   "outputs": [
    {
     "data": {
      "text/html": [
       "<div>\n",
       "<style scoped>\n",
       "    .dataframe tbody tr th:only-of-type {\n",
       "        vertical-align: middle;\n",
       "    }\n",
       "\n",
       "    .dataframe tbody tr th {\n",
       "        vertical-align: top;\n",
       "    }\n",
       "\n",
       "    .dataframe thead th {\n",
       "        text-align: right;\n",
       "    }\n",
       "</style>\n",
       "<table border=\"1\" class=\"dataframe\">\n",
       "  <thead>\n",
       "    <tr style=\"text-align: right;\">\n",
       "      <th></th>\n",
       "      <th>longitude</th>\n",
       "      <th>latitude</th>\n",
       "      <th>housing_median_age</th>\n",
       "      <th>total_rooms</th>\n",
       "      <th>total_bedrooms</th>\n",
       "      <th>population</th>\n",
       "      <th>households</th>\n",
       "      <th>median_income</th>\n",
       "      <th>median_house_value</th>\n",
       "    </tr>\n",
       "  </thead>\n",
       "  <tbody>\n",
       "    <tr>\n",
       "      <th>19963</th>\n",
       "      <td>-119.14</td>\n",
       "      <td>36.23</td>\n",
       "      <td>22.0</td>\n",
       "      <td>2935.0</td>\n",
       "      <td>523.0</td>\n",
       "      <td>1927.0</td>\n",
       "      <td>530.0</td>\n",
       "      <td>2.5875</td>\n",
       "      <td>70400.0</td>\n",
       "    </tr>\n",
       "    <tr>\n",
       "      <th>5929</th>\n",
       "      <td>-117.79</td>\n",
       "      <td>34.12</td>\n",
       "      <td>16.0</td>\n",
       "      <td>2426.0</td>\n",
       "      <td>426.0</td>\n",
       "      <td>1319.0</td>\n",
       "      <td>446.0</td>\n",
       "      <td>4.8125</td>\n",
       "      <td>224500.0</td>\n",
       "    </tr>\n",
       "    <tr>\n",
       "      <th>11377</th>\n",
       "      <td>-117.97</td>\n",
       "      <td>33.68</td>\n",
       "      <td>26.0</td>\n",
       "      <td>3653.0</td>\n",
       "      <td>568.0</td>\n",
       "      <td>1930.0</td>\n",
       "      <td>585.0</td>\n",
       "      <td>5.7301</td>\n",
       "      <td>260900.0</td>\n",
       "    </tr>\n",
       "    <tr>\n",
       "      <th>6443</th>\n",
       "      <td>-118.03</td>\n",
       "      <td>34.10</td>\n",
       "      <td>32.0</td>\n",
       "      <td>2668.0</td>\n",
       "      <td>609.0</td>\n",
       "      <td>1512.0</td>\n",
       "      <td>541.0</td>\n",
       "      <td>2.9422</td>\n",
       "      <td>233100.0</td>\n",
       "    </tr>\n",
       "    <tr>\n",
       "      <th>17546</th>\n",
       "      <td>-121.87</td>\n",
       "      <td>37.34</td>\n",
       "      <td>39.0</td>\n",
       "      <td>2479.0</td>\n",
       "      <td>541.0</td>\n",
       "      <td>1990.0</td>\n",
       "      <td>506.0</td>\n",
       "      <td>2.4306</td>\n",
       "      <td>289100.0</td>\n",
       "    </tr>\n",
       "    <tr>\n",
       "      <th>...</th>\n",
       "      <td>...</td>\n",
       "      <td>...</td>\n",
       "      <td>...</td>\n",
       "      <td>...</td>\n",
       "      <td>...</td>\n",
       "      <td>...</td>\n",
       "      <td>...</td>\n",
       "      <td>...</td>\n",
       "      <td>...</td>\n",
       "    </tr>\n",
       "    <tr>\n",
       "      <th>20157</th>\n",
       "      <td>-119.15</td>\n",
       "      <td>34.44</td>\n",
       "      <td>33.0</td>\n",
       "      <td>2005.0</td>\n",
       "      <td>392.0</td>\n",
       "      <td>1043.0</td>\n",
       "      <td>351.0</td>\n",
       "      <td>5.3080</td>\n",
       "      <td>297900.0</td>\n",
       "    </tr>\n",
       "    <tr>\n",
       "      <th>20005</th>\n",
       "      <td>-119.13</td>\n",
       "      <td>36.13</td>\n",
       "      <td>28.0</td>\n",
       "      <td>1673.0</td>\n",
       "      <td>385.0</td>\n",
       "      <td>1434.0</td>\n",
       "      <td>371.0</td>\n",
       "      <td>2.0586</td>\n",
       "      <td>40900.0</td>\n",
       "    </tr>\n",
       "    <tr>\n",
       "      <th>6691</th>\n",
       "      <td>-118.08</td>\n",
       "      <td>34.13</td>\n",
       "      <td>46.0</td>\n",
       "      <td>1238.0</td>\n",
       "      <td>147.0</td>\n",
       "      <td>377.0</td>\n",
       "      <td>145.0</td>\n",
       "      <td>8.4546</td>\n",
       "      <td>500001.0</td>\n",
       "    </tr>\n",
       "    <tr>\n",
       "      <th>3470</th>\n",
       "      <td>-118.46</td>\n",
       "      <td>34.29</td>\n",
       "      <td>24.0</td>\n",
       "      <td>3668.0</td>\n",
       "      <td>890.0</td>\n",
       "      <td>3151.0</td>\n",
       "      <td>810.0</td>\n",
       "      <td>3.0526</td>\n",
       "      <td>183300.0</td>\n",
       "    </tr>\n",
       "    <tr>\n",
       "      <th>5498</th>\n",
       "      <td>-118.41</td>\n",
       "      <td>34.00</td>\n",
       "      <td>18.0</td>\n",
       "      <td>1307.0</td>\n",
       "      <td>441.0</td>\n",
       "      <td>884.0</td>\n",
       "      <td>456.0</td>\n",
       "      <td>2.9338</td>\n",
       "      <td>276300.0</td>\n",
       "    </tr>\n",
       "  </tbody>\n",
       "</table>\n",
       "<p>9413 rows × 9 columns</p>\n",
       "</div>"
      ],
      "text/plain": [
       "       longitude  latitude  housing_median_age  total_rooms  total_bedrooms  \\\n",
       "19963    -119.14     36.23                22.0       2935.0           523.0   \n",
       "5929     -117.79     34.12                16.0       2426.0           426.0   \n",
       "11377    -117.97     33.68                26.0       3653.0           568.0   \n",
       "6443     -118.03     34.10                32.0       2668.0           609.0   \n",
       "17546    -121.87     37.34                39.0       2479.0           541.0   \n",
       "...          ...       ...                 ...          ...             ...   \n",
       "20157    -119.15     34.44                33.0       2005.0           392.0   \n",
       "20005    -119.13     36.13                28.0       1673.0           385.0   \n",
       "6691     -118.08     34.13                46.0       1238.0           147.0   \n",
       "3470     -118.46     34.29                24.0       3668.0           890.0   \n",
       "5498     -118.41     34.00                18.0       1307.0           441.0   \n",
       "\n",
       "       population  households  median_income  median_house_value  \n",
       "19963      1927.0       530.0         2.5875             70400.0  \n",
       "5929       1319.0       446.0         4.8125            224500.0  \n",
       "11377      1930.0       585.0         5.7301            260900.0  \n",
       "6443       1512.0       541.0         2.9422            233100.0  \n",
       "17546      1990.0       506.0         2.4306            289100.0  \n",
       "...           ...         ...            ...                 ...  \n",
       "20157      1043.0       351.0         5.3080            297900.0  \n",
       "20005      1434.0       371.0         2.0586             40900.0  \n",
       "6691        377.0       145.0         8.4546            500001.0  \n",
       "3470       3151.0       810.0         3.0526            183300.0  \n",
       "5498        884.0       456.0         2.9338            276300.0  \n",
       "\n",
       "[9413 rows x 9 columns]"
      ]
     },
     "execution_count": 29,
     "metadata": {},
     "output_type": "execute_result"
    }
   ],
   "source": [
    "df_train = df_shuffled.iloc[:train_size].copy()                                   ##\n",
    "#df_train\n",
    "df_val = df_shuffled.iloc[train_size : train_size + val_size].copy() \n",
    "df_test = df_shuffled.iloc[train_size + val_size : ].copy()             \n",
    "\n",
    "df_train"
   ]
  },
  {
   "cell_type": "code",
   "execution_count": 30,
   "id": "ccb92ac7",
   "metadata": {},
   "outputs": [],
   "source": [
    "#df_train = df_filtered.iloc[idx[:train_size]]                              ## # .copy() ??\n",
    "#df_val = df_filtered.iloc[idx[train_size : train_size + val_size]]\n",
    "#df_test = df_filtered.iloc[idx[train_size + val_size : ]]        "
   ]
  },
  {
   "cell_type": "code",
   "execution_count": 31,
   "id": "8de1a9a1",
   "metadata": {},
   "outputs": [
    {
     "data": {
      "text/plain": [
       "(9413, 3137, 3137)"
      ]
     },
     "execution_count": 31,
     "metadata": {},
     "output_type": "execute_result"
    }
   ],
   "source": [
    "len(df_train), len(df_val), len(df_test)                     ##  #to check if every thing is fine"
   ]
  },
  {
   "cell_type": "code",
   "execution_count": 32,
   "id": "6720519c",
   "metadata": {},
   "outputs": [],
   "source": [
    "########################                 Alexey\n",
    "#y_train_orig = df_train.msrp.values\n",
    "#y_val_orig = df_val.msrp.values\n",
    "#y_test_orig = df_test.msrp.values\n",
    "##########################"
   ]
  },
  {
   "cell_type": "code",
   "execution_count": 33,
   "id": "94ce8598",
   "metadata": {},
   "outputs": [],
   "source": [
    "##############################                     # I didn't run this cell\n",
    "#df_train = df_train.reset_index(drop = True)                    ##\n",
    "##df_train\n",
    "#df_val = df_val.reset_index(drop = True)\n",
    "#df_test = df_test.reset_index(drop = True)\n",
    "################################"
   ]
  },
  {
   "cell_type": "code",
   "execution_count": 34,
   "id": "1c762a8d",
   "metadata": {},
   "outputs": [
    {
     "data": {
      "text/plain": [
       "19963     70400.0\n",
       "5929     224500.0\n",
       "11377    260900.0\n",
       "6443     233100.0\n",
       "17546    289100.0\n",
       "           ...   \n",
       "20157    297900.0\n",
       "20005     40900.0\n",
       "6691     500001.0\n",
       "3470     183300.0\n",
       "5498     276300.0\n",
       "Name: median_house_value, Length: 9413, dtype: float64"
      ]
     },
     "execution_count": 34,
     "metadata": {},
     "output_type": "execute_result"
    }
   ],
   "source": [
    "df_train['median_house_value']"
   ]
  },
  {
   "cell_type": "code",
   "execution_count": 35,
   "id": "46177bb8",
   "metadata": {},
   "outputs": [],
   "source": [
    "#np.log1p(df_shuffled['median_house_value']).values    ''' ??? Why didn't we apply the log transformation on the\n",
    "                                                            #...whole col \"median_house_value\" of the df_shuffled??'''\n",
    "y_train = np.log1p(df_train['median_house_value']).values              ##   # .values gives the result in a numpy array \n",
    "y_val = np.log1p(df_val['median_house_value']).values\n",
    "y_test = np.log1p(df_test['median_house_value']).values"
   ]
  },
  {
   "cell_type": "code",
   "execution_count": 36,
   "id": "eaa7b643",
   "metadata": {},
   "outputs": [],
   "source": [
    "#y_train"
   ]
  },
  {
   "cell_type": "code",
   "execution_count": 37,
   "id": "961a55d6",
   "metadata": {},
   "outputs": [],
   "source": [
    "# Delete target variable (lables), not to use them accidentally during training the model\n",
    "del df_train['median_house_value']\n",
    "del df_val['median_house_value']\n",
    "del df_test['median_house_value']"
   ]
  },
  {
   "cell_type": "markdown",
   "id": "effd52f3",
   "metadata": {},
   "source": [
    "# Q3"
   ]
  },
  {
   "cell_type": "code",
   "execution_count": 38,
   "id": "1334e950",
   "metadata": {},
   "outputs": [
    {
     "data": {
      "text/plain": [
       "longitude               0\n",
       "latitude                0\n",
       "housing_median_age      0\n",
       "total_rooms             0\n",
       "total_bedrooms        157\n",
       "population              0\n",
       "households              0\n",
       "median_income           0\n",
       "median_house_value      0\n",
       "dtype: int64"
      ]
     },
     "execution_count": 38,
     "metadata": {},
     "output_type": "execute_result"
    }
   ],
   "source": [
    "df_shuffled.isna().sum()"
   ]
  },
  {
   "cell_type": "markdown",
   "id": "2c3adc34",
   "metadata": {},
   "source": [
    "### 'Total_bedroom' col. filled with 0"
   ]
  },
  {
   "cell_type": "code",
   "execution_count": 39,
   "id": "c3743365",
   "metadata": {},
   "outputs": [],
   "source": [
    "# Option 1: Fill with 0\n",
    "df_filled_zero = df['total_bedrooms'].fillna(0)"
   ]
  },
  {
   "cell_type": "code",
   "execution_count": 40,
   "id": "af4dbeee",
   "metadata": {},
   "outputs": [],
   "source": [
    "def train_linear_regression(X, y):\n",
    "    ones = np.ones(X.shape[0])\n",
    "    X = np.column_stack([ones, X])  # appends column-wise the col. of ones to the feature matrix X\n",
    "\n",
    "    XTX = X.T.dot(X)\n",
    "    XTX_inv = np.linalg.inv(XTX)\n",
    "    w = XTX_inv.dot(X.T).dot(y)\n",
    "    \n",
    "    return w[0], w[1:]   # the coefficients for our Linear Regression- w[0]: is bias, W[1:]: is the weights"
   ]
  },
  {
   "cell_type": "code",
   "execution_count": 41,
   "id": "a91d8cc1",
   "metadata": {},
   "outputs": [
    {
     "data": {
      "text/plain": [
       "longitude             float64\n",
       "latitude              float64\n",
       "housing_median_age    float64\n",
       "total_rooms           float64\n",
       "total_bedrooms        float64\n",
       "population            float64\n",
       "households            float64\n",
       "median_income         float64\n",
       "dtype: object"
      ]
     },
     "execution_count": 41,
     "metadata": {},
     "output_type": "execute_result"
    }
   ],
   "source": [
    "df_train.dtypes"
   ]
  },
  {
   "cell_type": "code",
   "execution_count": 42,
   "id": "7667c1e2",
   "metadata": {},
   "outputs": [
    {
     "data": {
      "text/plain": [
       "8"
      ]
     },
     "execution_count": 42,
     "metadata": {},
     "output_type": "execute_result"
    }
   ],
   "source": [
    "len(df_train.dtypes)"
   ]
  },
  {
   "cell_type": "code",
   "execution_count": 43,
   "id": "267b5981",
   "metadata": {},
   "outputs": [
    {
     "data": {
      "text/plain": [
       "array(['longitude', 'latitude', 'housing_median_age', 'total_rooms',\n",
       "       'total_bedrooms', 'population', 'households', 'median_income'],\n",
       "      dtype=object)"
      ]
     },
     "execution_count": 43,
     "metadata": {},
     "output_type": "execute_result"
    }
   ],
   "source": [
    "features = df_train.columns.values\n",
    "#features[len(features)-1]\n",
    "features"
   ]
  },
  {
   "cell_type": "code",
   "execution_count": 44,
   "id": "56dfa5db",
   "metadata": {
    "scrolled": true
   },
   "outputs": [
    {
     "data": {
      "text/html": [
       "<div>\n",
       "<style scoped>\n",
       "    .dataframe tbody tr th:only-of-type {\n",
       "        vertical-align: middle;\n",
       "    }\n",
       "\n",
       "    .dataframe tbody tr th {\n",
       "        vertical-align: top;\n",
       "    }\n",
       "\n",
       "    .dataframe thead th {\n",
       "        text-align: right;\n",
       "    }\n",
       "</style>\n",
       "<table border=\"1\" class=\"dataframe\">\n",
       "  <thead>\n",
       "    <tr style=\"text-align: right;\">\n",
       "      <th></th>\n",
       "      <th>longitude</th>\n",
       "      <th>latitude</th>\n",
       "      <th>housing_median_age</th>\n",
       "      <th>total_rooms</th>\n",
       "      <th>total_bedrooms</th>\n",
       "      <th>population</th>\n",
       "      <th>households</th>\n",
       "      <th>median_income</th>\n",
       "    </tr>\n",
       "  </thead>\n",
       "  <tbody>\n",
       "    <tr>\n",
       "      <th>19963</th>\n",
       "      <td>-119.14</td>\n",
       "      <td>36.23</td>\n",
       "      <td>22.0</td>\n",
       "      <td>2935.0</td>\n",
       "      <td>523.0</td>\n",
       "      <td>1927.0</td>\n",
       "      <td>530.0</td>\n",
       "      <td>2.5875</td>\n",
       "    </tr>\n",
       "    <tr>\n",
       "      <th>5929</th>\n",
       "      <td>-117.79</td>\n",
       "      <td>34.12</td>\n",
       "      <td>16.0</td>\n",
       "      <td>2426.0</td>\n",
       "      <td>426.0</td>\n",
       "      <td>1319.0</td>\n",
       "      <td>446.0</td>\n",
       "      <td>4.8125</td>\n",
       "    </tr>\n",
       "    <tr>\n",
       "      <th>11377</th>\n",
       "      <td>-117.97</td>\n",
       "      <td>33.68</td>\n",
       "      <td>26.0</td>\n",
       "      <td>3653.0</td>\n",
       "      <td>568.0</td>\n",
       "      <td>1930.0</td>\n",
       "      <td>585.0</td>\n",
       "      <td>5.7301</td>\n",
       "    </tr>\n",
       "    <tr>\n",
       "      <th>6443</th>\n",
       "      <td>-118.03</td>\n",
       "      <td>34.10</td>\n",
       "      <td>32.0</td>\n",
       "      <td>2668.0</td>\n",
       "      <td>609.0</td>\n",
       "      <td>1512.0</td>\n",
       "      <td>541.0</td>\n",
       "      <td>2.9422</td>\n",
       "    </tr>\n",
       "    <tr>\n",
       "      <th>17546</th>\n",
       "      <td>-121.87</td>\n",
       "      <td>37.34</td>\n",
       "      <td>39.0</td>\n",
       "      <td>2479.0</td>\n",
       "      <td>541.0</td>\n",
       "      <td>1990.0</td>\n",
       "      <td>506.0</td>\n",
       "      <td>2.4306</td>\n",
       "    </tr>\n",
       "    <tr>\n",
       "      <th>...</th>\n",
       "      <td>...</td>\n",
       "      <td>...</td>\n",
       "      <td>...</td>\n",
       "      <td>...</td>\n",
       "      <td>...</td>\n",
       "      <td>...</td>\n",
       "      <td>...</td>\n",
       "      <td>...</td>\n",
       "    </tr>\n",
       "    <tr>\n",
       "      <th>20157</th>\n",
       "      <td>-119.15</td>\n",
       "      <td>34.44</td>\n",
       "      <td>33.0</td>\n",
       "      <td>2005.0</td>\n",
       "      <td>392.0</td>\n",
       "      <td>1043.0</td>\n",
       "      <td>351.0</td>\n",
       "      <td>5.3080</td>\n",
       "    </tr>\n",
       "    <tr>\n",
       "      <th>20005</th>\n",
       "      <td>-119.13</td>\n",
       "      <td>36.13</td>\n",
       "      <td>28.0</td>\n",
       "      <td>1673.0</td>\n",
       "      <td>385.0</td>\n",
       "      <td>1434.0</td>\n",
       "      <td>371.0</td>\n",
       "      <td>2.0586</td>\n",
       "    </tr>\n",
       "    <tr>\n",
       "      <th>6691</th>\n",
       "      <td>-118.08</td>\n",
       "      <td>34.13</td>\n",
       "      <td>46.0</td>\n",
       "      <td>1238.0</td>\n",
       "      <td>147.0</td>\n",
       "      <td>377.0</td>\n",
       "      <td>145.0</td>\n",
       "      <td>8.4546</td>\n",
       "    </tr>\n",
       "    <tr>\n",
       "      <th>3470</th>\n",
       "      <td>-118.46</td>\n",
       "      <td>34.29</td>\n",
       "      <td>24.0</td>\n",
       "      <td>3668.0</td>\n",
       "      <td>890.0</td>\n",
       "      <td>3151.0</td>\n",
       "      <td>810.0</td>\n",
       "      <td>3.0526</td>\n",
       "    </tr>\n",
       "    <tr>\n",
       "      <th>5498</th>\n",
       "      <td>-118.41</td>\n",
       "      <td>34.00</td>\n",
       "      <td>18.0</td>\n",
       "      <td>1307.0</td>\n",
       "      <td>441.0</td>\n",
       "      <td>884.0</td>\n",
       "      <td>456.0</td>\n",
       "      <td>2.9338</td>\n",
       "    </tr>\n",
       "  </tbody>\n",
       "</table>\n",
       "<p>9413 rows × 8 columns</p>\n",
       "</div>"
      ],
      "text/plain": [
       "       longitude  latitude  housing_median_age  total_rooms  total_bedrooms  \\\n",
       "19963    -119.14     36.23                22.0       2935.0           523.0   \n",
       "5929     -117.79     34.12                16.0       2426.0           426.0   \n",
       "11377    -117.97     33.68                26.0       3653.0           568.0   \n",
       "6443     -118.03     34.10                32.0       2668.0           609.0   \n",
       "17546    -121.87     37.34                39.0       2479.0           541.0   \n",
       "...          ...       ...                 ...          ...             ...   \n",
       "20157    -119.15     34.44                33.0       2005.0           392.0   \n",
       "20005    -119.13     36.13                28.0       1673.0           385.0   \n",
       "6691     -118.08     34.13                46.0       1238.0           147.0   \n",
       "3470     -118.46     34.29                24.0       3668.0           890.0   \n",
       "5498     -118.41     34.00                18.0       1307.0           441.0   \n",
       "\n",
       "       population  households  median_income  \n",
       "19963      1927.0       530.0         2.5875  \n",
       "5929       1319.0       446.0         4.8125  \n",
       "11377      1930.0       585.0         5.7301  \n",
       "6443       1512.0       541.0         2.9422  \n",
       "17546      1990.0       506.0         2.4306  \n",
       "...           ...         ...            ...  \n",
       "20157      1043.0       351.0         5.3080  \n",
       "20005      1434.0       371.0         2.0586  \n",
       "6691        377.0       145.0         8.4546  \n",
       "3470       3151.0       810.0         3.0526  \n",
       "5498        884.0       456.0         2.9338  \n",
       "\n",
       "[9413 rows x 8 columns]"
      ]
     },
     "execution_count": 44,
     "metadata": {},
     "output_type": "execute_result"
    }
   ],
   "source": [
    "df_train[features]"
   ]
  },
  {
   "cell_type": "code",
   "execution_count": 45,
   "id": "0757d051",
   "metadata": {},
   "outputs": [],
   "source": [
    "#df_train['longitude']"
   ]
  },
  {
   "cell_type": "code",
   "execution_count": 46,
   "id": "80918627",
   "metadata": {},
   "outputs": [],
   "source": [
    "#df_train[['longitude', 'latitude']]"
   ]
  },
  {
   "cell_type": "code",
   "execution_count": 47,
   "id": "d8006801",
   "metadata": {},
   "outputs": [],
   "source": [
    "#features = ['longitude', 'latitude']     ##\n",
    "X_train = df_train[features].values\n",
    "#X_train"
   ]
  },
  {
   "cell_type": "code",
   "execution_count": 48,
   "id": "a354830b",
   "metadata": {},
   "outputs": [
    {
     "data": {
      "text/plain": [
       "array([11.16196275, 12.32163544, 12.4718963 , ..., 13.12236738,\n",
       "       12.11888489, 12.52924613])"
      ]
     },
     "execution_count": 48,
     "metadata": {},
     "output_type": "execute_result"
    }
   ],
   "source": [
    "y_train                             ##(#)  #Khodam"
   ]
  },
  {
   "cell_type": "code",
   "execution_count": 49,
   "id": "0d8507fa",
   "metadata": {},
   "outputs": [],
   "source": [
    "#df_train.isna().sum()"
   ]
  },
  {
   "cell_type": "markdown",
   "id": "1553df99",
   "metadata": {},
   "source": [
    "###  Filling the Nans (Missing values) with Zeros"
   ]
  },
  {
   "cell_type": "code",
   "execution_count": 50,
   "id": "6ec20761",
   "metadata": {},
   "outputs": [],
   "source": [
    "#'Total_bedroom' col. filled with its df_TRAIN mean- Fill the Nans (same pre-processing for all 3 subsets) with \n",
    "#... the mean of TRAINing data only. IF you get the mean of the whole column, it's cheating. Bcs you have used somehow the \n",
    "#... Test data infos !!!\n"
   ]
  },
  {
   "cell_type": "code",
   "execution_count": 51,
   "id": "976561a5",
   "metadata": {},
   "outputs": [
    {
     "data": {
      "text/plain": [
       "(9413, 8)"
      ]
     },
     "execution_count": 51,
     "metadata": {},
     "output_type": "execute_result"
    }
   ],
   "source": [
    "# Fill all Nans with 0          ##      ######### Q: Why only the training data subset is filled with zeros?########## Q\n",
    "X_train_filled_zero = df_train[features].fillna(0).values  # .values creates a np.array directly\n",
    "X_train_filled_zero.shape"
   ]
  },
  {
   "cell_type": "code",
   "execution_count": 52,
   "id": "af994bfb",
   "metadata": {},
   "outputs": [
    {
     "data": {
      "text/html": [
       "<div>\n",
       "<style scoped>\n",
       "    .dataframe tbody tr th:only-of-type {\n",
       "        vertical-align: middle;\n",
       "    }\n",
       "\n",
       "    .dataframe tbody tr th {\n",
       "        vertical-align: top;\n",
       "    }\n",
       "\n",
       "    .dataframe thead th {\n",
       "        text-align: right;\n",
       "    }\n",
       "</style>\n",
       "<table border=\"1\" class=\"dataframe\">\n",
       "  <thead>\n",
       "    <tr style=\"text-align: right;\">\n",
       "      <th></th>\n",
       "      <th>longitude</th>\n",
       "      <th>latitude</th>\n",
       "      <th>housing_median_age</th>\n",
       "      <th>total_rooms</th>\n",
       "      <th>total_bedrooms</th>\n",
       "      <th>population</th>\n",
       "      <th>households</th>\n",
       "      <th>median_income</th>\n",
       "    </tr>\n",
       "  </thead>\n",
       "  <tbody>\n",
       "    <tr>\n",
       "      <th>19963</th>\n",
       "      <td>-119.14</td>\n",
       "      <td>36.23</td>\n",
       "      <td>22.0</td>\n",
       "      <td>2935.0</td>\n",
       "      <td>523.0</td>\n",
       "      <td>1927.0</td>\n",
       "      <td>530.0</td>\n",
       "      <td>2.5875</td>\n",
       "    </tr>\n",
       "    <tr>\n",
       "      <th>5929</th>\n",
       "      <td>-117.79</td>\n",
       "      <td>34.12</td>\n",
       "      <td>16.0</td>\n",
       "      <td>2426.0</td>\n",
       "      <td>426.0</td>\n",
       "      <td>1319.0</td>\n",
       "      <td>446.0</td>\n",
       "      <td>4.8125</td>\n",
       "    </tr>\n",
       "    <tr>\n",
       "      <th>11377</th>\n",
       "      <td>-117.97</td>\n",
       "      <td>33.68</td>\n",
       "      <td>26.0</td>\n",
       "      <td>3653.0</td>\n",
       "      <td>568.0</td>\n",
       "      <td>1930.0</td>\n",
       "      <td>585.0</td>\n",
       "      <td>5.7301</td>\n",
       "    </tr>\n",
       "    <tr>\n",
       "      <th>6443</th>\n",
       "      <td>-118.03</td>\n",
       "      <td>34.10</td>\n",
       "      <td>32.0</td>\n",
       "      <td>2668.0</td>\n",
       "      <td>609.0</td>\n",
       "      <td>1512.0</td>\n",
       "      <td>541.0</td>\n",
       "      <td>2.9422</td>\n",
       "    </tr>\n",
       "    <tr>\n",
       "      <th>17546</th>\n",
       "      <td>-121.87</td>\n",
       "      <td>37.34</td>\n",
       "      <td>39.0</td>\n",
       "      <td>2479.0</td>\n",
       "      <td>541.0</td>\n",
       "      <td>1990.0</td>\n",
       "      <td>506.0</td>\n",
       "      <td>2.4306</td>\n",
       "    </tr>\n",
       "  </tbody>\n",
       "</table>\n",
       "</div>"
      ],
      "text/plain": [
       "       longitude  latitude  housing_median_age  total_rooms  total_bedrooms  \\\n",
       "19963    -119.14     36.23                22.0       2935.0           523.0   \n",
       "5929     -117.79     34.12                16.0       2426.0           426.0   \n",
       "11377    -117.97     33.68                26.0       3653.0           568.0   \n",
       "6443     -118.03     34.10                32.0       2668.0           609.0   \n",
       "17546    -121.87     37.34                39.0       2479.0           541.0   \n",
       "\n",
       "       population  households  median_income  \n",
       "19963      1927.0       530.0         2.5875  \n",
       "5929       1319.0       446.0         4.8125  \n",
       "11377      1930.0       585.0         5.7301  \n",
       "6443       1512.0       541.0         2.9422  \n",
       "17546      1990.0       506.0         2.4306  "
      ]
     },
     "execution_count": 52,
     "metadata": {},
     "output_type": "execute_result"
    }
   ],
   "source": [
    " df_train[features].fillna(0).head()"
   ]
  },
  {
   "cell_type": "code",
   "execution_count": 53,
   "id": "18321c1b",
   "metadata": {},
   "outputs": [
    {
     "data": {
      "text/plain": [
       "(8,)"
      ]
     },
     "execution_count": 53,
     "metadata": {},
     "output_type": "execute_result"
    }
   ],
   "source": [
    "w0, w = train_linear_regression(X_train_filled_zero, y_train) ## # We first got nans, bcz our training data has nan values-we'll fix this in upper rows\n",
    "                                                                 # Use w0 and w weights to make predictions !!\n",
    "w.shape"
   ]
  },
  {
   "cell_type": "code",
   "execution_count": 54,
   "id": "4dea0689",
   "metadata": {},
   "outputs": [],
   "source": [
    "y_pred_z = w0 + X_train_filled_zero.dot(w)"
   ]
  },
  {
   "cell_type": "code",
   "execution_count": 55,
   "id": "047dd4a0",
   "metadata": {},
   "outputs": [
    {
     "data": {
      "text/plain": [
       "<Axes: ylabel='Count'>"
      ]
     },
     "execution_count": 55,
     "metadata": {},
     "output_type": "execute_result"
    },
    {
     "data": {
      "image/png": "[encoded data removed]",
      "text/plain": [
       "<Figure size 640x480 with 1 Axes>"
      ]
     },
     "metadata": {},
     "output_type": "display_data"
    }
   ],
   "source": [
    "# Plot the Prediction (y_pred), to compare with the \n",
    "sns.histplot(y_pred_z, color = 'green', alpha = 0.5, bins = 40)   # Predictions/ predicted lables\n",
    "sns.histplot(y_train, color = 'blue', alpha = 0.5,  bins = 40)  # Target variables/ Actual lables"
   ]
  },
  {
   "cell_type": "markdown",
   "id": "d7dd4ce4",
   "metadata": {},
   "source": [
    "###  Filling the Nans (Missing values) with its 'TRAINNG DATASET' subset's mean value "
   ]
  },
  {
   "cell_type": "code",
   "execution_count": 56,
   "id": "d70d70d5",
   "metadata": {},
   "outputs": [
    {
     "data": {
      "text/plain": [
       "542.552956325786"
      ]
     },
     "execution_count": 56,
     "metadata": {},
     "output_type": "execute_result"
    }
   ],
   "source": [
    "df_train_mean = df_train['total_bedrooms'].mean()    ##?\n",
    "df_train_mean"
   ]
  },
  {
   "cell_type": "code",
   "execution_count": 57,
   "id": "8cab437c",
   "metadata": {},
   "outputs": [],
   "source": [
    "df_train['total_bedrooms'] = df_train['total_bedrooms'].fillna(df_train_mean)  #Q?? How can I make sure that the NANS of the data frame are actually filled?\n",
    "X_train_filled_mean = df_train[features].values     ##?\n",
    "#X_train_filled_mean.shape"
   ]
  },
  {
   "cell_type": "code",
   "execution_count": 58,
   "id": "37ec11e5",
   "metadata": {},
   "outputs": [],
   "source": [
    "#df_val_filled_mean = df_val['total_bedrooms'].fillna(df_train_mean)    ##(?)    Am\n",
    "#df_test_filled_mean = df_test['total_bedrooms'].fillna(df_train_mean)"
   ]
  },
  {
   "cell_type": "code",
   "execution_count": 59,
   "id": "73fb4eb4",
   "metadata": {},
   "outputs": [
    {
     "data": {
      "text/plain": [
       "(8,)"
      ]
     },
     "execution_count": 59,
     "metadata": {},
     "output_type": "execute_result"
    }
   ],
   "source": [
    "w0, w = train_linear_regression(X_train_filled_mean, y_train)\n",
    "w.shape"
   ]
  },
  {
   "cell_type": "code",
   "execution_count": 60,
   "id": "f44c2cb0",
   "metadata": {},
   "outputs": [],
   "source": [
    "y_pred_m = w0 + X_train_filled_mean.dot(w) "
   ]
  },
  {
   "cell_type": "code",
   "execution_count": 61,
   "id": "92d71d57",
   "metadata": {},
   "outputs": [
    {
     "data": {
      "text/plain": [
       "<Axes: ylabel='Count'>"
      ]
     },
     "execution_count": 61,
     "metadata": {},
     "output_type": "execute_result"
    },
    {
     "data": {
      "image/png": "[encoded data removed]",
      "text/plain": [
       "<Figure size 640x480 with 1 Axes>"
      ]
     },
     "metadata": {},
     "output_type": "display_data"
    }
   ],
   "source": [
    "# Plot the Prediction (y_pred), to compare with the \n",
    "sns.histplot(y_pred_m, color = 'green', alpha = 0.5, bins = 40)   # Predictions/ predicted lables\n",
    "sns.histplot(y_train, color = 'blue', alpha = 0.5,  bins = 40)  # Target variables/ Actual lables"
   ]
  },
  {
   "cell_type": "markdown",
   "id": "84478cb4",
   "metadata": {},
   "source": [
    "### RMSE"
   ]
  },
  {
   "cell_type": "code",
   "execution_count": 62,
   "id": "67c985e5",
   "metadata": {},
   "outputs": [],
   "source": [
    "def rmse(y, y_pred):\n",
    "    error = y_pred - y\n",
    "    mse = (error ** 2).mean()\n",
    "    return np.sqrt(mse)"
   ]
  },
  {
   "cell_type": "code",
   "execution_count": 63,
   "id": "1e9974c5",
   "metadata": {},
   "outputs": [
    {
     "data": {
      "text/plain": [
       "0.34"
      ]
     },
     "execution_count": 63,
     "metadata": {},
     "output_type": "execute_result"
    }
   ],
   "source": [
    "rmse_fill_zero = rmse(y_train, y_pred_z).round(2)\n",
    "rmse_fill_zero"
   ]
  },
  {
   "cell_type": "code",
   "execution_count": 64,
   "id": "3ddbff57",
   "metadata": {},
   "outputs": [
    {
     "data": {
      "text/plain": [
       "0.34"
      ]
     },
     "execution_count": 64,
     "metadata": {},
     "output_type": "execute_result"
    }
   ],
   "source": [
    "rmse_fill_mean = rmse(y_train, y_pred_m).round(2)\n",
    "rmse_fill_mean"
   ]
  },
  {
   "cell_type": "code",
   "execution_count": 65,
   "id": "16e4b2d3",
   "metadata": {},
   "outputs": [
    {
     "name": "stdout",
     "output_type": "stream",
     "text": [
      "Filling the missing valus with both alternatives gives the same RMSE: 0.34\n"
     ]
    }
   ],
   "source": [
    "print(f'Filling the missing valus with both alternatives gives the same RMSE: {rmse_fill_zero}')"
   ]
  },
  {
   "cell_type": "markdown",
   "id": "55f9b5c1",
   "metadata": {},
   "source": [
    "# Q4"
   ]
  },
  {
   "cell_type": "code",
   "execution_count": 66,
   "id": "c76bcfe1",
   "metadata": {},
   "outputs": [],
   "source": [
    "def prepare_X(df):       # prepare feature Matrix X =~   X_train_filled_zero = df_train[features].fillna(0).values\n",
    "\n",
    "    df_num = df[features]\n",
    "    df_num = df_num.fillna(0)  # Fill the NANs with 0\n",
    "    X = df_num.values\n",
    "    \n",
    "    return X"
   ]
  },
  {
   "cell_type": "code",
   "execution_count": 67,
   "id": "654c40d5",
   "metadata": {},
   "outputs": [],
   "source": [
    "r_values = [0, 0.000001, 0.0001, 0.001, 0.01, 0.1, 1, 5, 10]\n",
    "\n",
    "def train_linear_regression_reg(X, y, r=r_values):\n",
    "    ones = np.ones(X.shape[0])\n",
    "    X = np.column_stack([ones, X])\n",
    "\n",
    "    XTX = X.T.dot(X)\n",
    "    reg = r * np.eye(XTX.shape[0])\n",
    "    XTX = XTX + reg\n",
    "\n",
    "    XTX_inv = np.linalg.inv(XTX)\n",
    "    w = XTX_inv.dot(X.T).dot(y)\n",
    "    \n",
    "    return w[0], w[1:]"
   ]
  },
  {
   "cell_type": "code",
   "execution_count": 68,
   "id": "3b59e2b9",
   "metadata": {},
   "outputs": [],
   "source": [
    "X_train = prepare_X(df_train)\n",
    "\n",
    "X_val = prepare_X(df_val)\n",
    "y_pred = w0 + X_val.dot(w)\n",
    "\n",
    "score = rmse(y_val, y_pred)\n",
    "#y_pred_v.shape"
   ]
  },
  {
   "cell_type": "code",
   "execution_count": 69,
   "id": "9ff0fb38",
   "metadata": {},
   "outputs": [
    {
     "name": "stdout",
     "output_type": "stream",
     "text": [
      "    0, -9.89, 0.34\n",
      "1e-06, -9.89, 0.34\n",
      "0.0001, -9.88, 0.34\n",
      "0.001, -9.87, 0.34\n",
      " 0.01, -9.68, 0.34\n",
      "  0.1, -8.15, 0.34\n",
      "    1, -3.16, 0.34\n",
      "    5, -0.85, 0.34\n",
      "   10, -0.44, 0.34\n"
     ]
    }
   ],
   "source": [
    "for r in r_values:\n",
    "    w0, w = train_linear_regression_reg(X_train, y_train, r=r)\n",
    "    print('%5s, %.2f, %.2f' % (r, w0, score))"
   ]
  },
  {
   "cell_type": "markdown",
   "id": "fd4a95ee",
   "metadata": {},
   "source": [
    "# Q5"
   ]
  },
  {
   "cell_type": "code",
   "execution_count": 70,
   "id": "43b2f183",
   "metadata": {},
   "outputs": [],
   "source": [
    "seed_values = [0, 1, 2, 3, 4, 5, 6, 7, 8, 9]\n",
    "rmse_scores = []\n",
    "\n",
    "for seed in seed_values:\n",
    "    np.random.seed(seed)                                       \n",
    "    df_len = len(df)\n",
    "    idx = np.arange(df_len)\n",
    "    np.random.shuffle(idx)\n",
    "    df_shuffled = df.iloc[idx]\n",
    "    \n",
    "    val_size = int(df_len * 0.2)                                  \n",
    "    test_size = int(df_len * 0.2)\n",
    "    train_size = df_len - (val_size + test_size)\n",
    "    \n",
    "    df_train = df_shuffled.iloc[:train_size].copy()                                   \n",
    "    df_val = df_shuffled.iloc[train_size : train_size + val_size].copy() \n",
    "    df_test = df_shuffled.iloc[train_size + val_size : ].copy()\n",
    "    \n",
    "    y_train = np.log1p(df_train['median_house_value']).values             \n",
    "    y_val = np.log1p(df_val['median_house_value']).values\n",
    "    y_test = np.log1p(df_test['median_house_value']).values\n",
    "    \n",
    "    score = rmse(y_val, y_pred)\n",
    "    rmse_scores.append(score)\n",
    "    \n",
    "df = df.copy()\n",
    "df['total_bedrooms'] = df['total_bedrooms'].fillna(0)\n",
    "\n",
    "def train_linear_regression(X, y):\n",
    "    ones = np.ones(X.shape[0])\n",
    "    X = np.column_stack([ones, X])  # appends column-wise the col. of ones to the feature matrix X\n",
    "\n",
    "    XTX = X.T.dot(X)\n",
    "    XTX_inv = np.linalg.inv(XTX)\n",
    "    w = XTX_inv.dot(X.T).dot(y)\n",
    "    \n",
    "    return w[0], w[1:]\n",
    "    \n",
    "def rmse(y, y_pred):\n",
    "    error = y_pred - y\n",
    "    mse = (error ** 2).mean()\n",
    "    return np.sqrt(mse)"
   ]
  },
  {
   "cell_type": "code",
   "execution_count": 71,
   "id": "6d108f84",
   "metadata": {},
   "outputs": [
    {
     "data": {
      "text/plain": [
       "[0.726588855483319,\n",
       " 0.723452760112242,\n",
       " 0.7403542970318056,\n",
       " 0.7254773002408268,\n",
       " 0.739434113168305,\n",
       " 0.7374809583124824,\n",
       " 0.7375955088616364,\n",
       " 0.7342673797510547,\n",
       " 0.7332513116353159,\n",
       " 0.7400212103355325]"
      ]
     },
     "execution_count": 71,
     "metadata": {},
     "output_type": "execute_result"
    }
   ],
   "source": [
    "rmse_scores"
   ]
  },
  {
   "cell_type": "code",
   "execution_count": 72,
   "id": "f2f63d35",
   "metadata": {},
   "outputs": [
    {
     "data": {
      "text/plain": [
       "0.006"
      ]
     },
     "execution_count": 72,
     "metadata": {},
     "output_type": "execute_result"
    }
   ],
   "source": [
    "np.std(rmse_scores).round(3)"
   ]
  },
  {
   "cell_type": "markdown",
   "id": "dd46bca7",
   "metadata": {},
   "source": [
    "# Q6"
   ]
  },
  {
   "cell_type": "code",
   "execution_count": 73,
   "id": "a8b617a0",
   "metadata": {},
   "outputs": [],
   "source": [
    "np.random.seed(9)                                       \n",
    "df_len = len(df)\n",
    "idx = np.arange(df_len)\n",
    "np.random.shuffle(idx)\n",
    "df_shuffled = df.iloc[idx]\n",
    "    \n",
    "val_size = int(df_len * 0.2)                                  \n",
    "test_size = int(df_len * 0.2)\n",
    "train_size = df_len - (val_size + test_size)\n",
    "    \n",
    "df_train = df_shuffled.iloc[:train_size].copy()                                   \n",
    "df_val = df_shuffled.iloc[train_size : train_size + val_size].copy() \n",
    "df_test = df_shuffled.iloc[train_size + val_size : ].copy()\n",
    "    \n",
    "y_train = np.log1p(df_train['median_house_value']).values             \n",
    "y_val = np.log1p(df_val['median_house_value']).values\n",
    "y_test = np.log1p(df_test['median_house_value']).values"
   ]
  },
  {
   "cell_type": "code",
   "execution_count": 74,
   "id": "1ff65329",
   "metadata": {},
   "outputs": [],
   "source": [
    "df_full_train = pd.concat([df_train, df_val])"
   ]
  },
  {
   "cell_type": "code",
   "execution_count": 75,
   "id": "bba0bb80",
   "metadata": {},
   "outputs": [],
   "source": [
    "df_full_train = df_full_train.reset_index(drop = True)"
   ]
  },
  {
   "cell_type": "code",
   "execution_count": 76,
   "id": "1869a05d",
   "metadata": {},
   "outputs": [],
   "source": [
    "X_full_train = prepare_X(df_full_train)\n",
    "#X_full_train"
   ]
  },
  {
   "cell_type": "code",
   "execution_count": 77,
   "id": "0d48eff7",
   "metadata": {},
   "outputs": [],
   "source": [
    "y_full_train = np.concatenate([y_train, y_val])\n",
    "#y_full_train"
   ]
  },
  {
   "cell_type": "code",
   "execution_count": 78,
   "id": "cd95e55d",
   "metadata": {},
   "outputs": [],
   "source": [
    "w0, w = train_linear_regression_reg(X_full_train, y_full_train, r = 0.001)"
   ]
  },
  {
   "cell_type": "code",
   "execution_count": 79,
   "id": "16dffe01",
   "metadata": {},
   "outputs": [
    {
     "name": "stdout",
     "output_type": "stream",
     "text": [
      "RMSE on Test Dataset: 0.33\n"
     ]
    }
   ],
   "source": [
    "X_test = prepare_X(df_test)\n",
    "y_pred = w0 + X_test.dot(w)\n",
    "score = rmse(y_test, y_pred)\n",
    "score_rounded = score.round(2)\n",
    "print(f\"RMSE on Test Dataset: {score_rounded}\")\n",
    "#print(\"RMSE on Test Dataset:\",score.round(2))"
   ]
  },
  {
   "cell_type": "code",
   "execution_count": null,
   "id": "2288d69f",
   "metadata": {},
   "outputs": [],
   "source": []
  }
 ],
 "metadata": {
  "kernelspec": {
   "display_name": "Python 3 (ipykernel)",
   "language": "python",
   "name": "python3"
  },
  "language_info": {
   "codemirror_mode": {
    "name": "ipython",
    "version": 3
   },
   "file_extension": ".py",
   "mimetype": "text/x-python",
   "name": "python",
   "nbconvert_exporter": "python",
   "pygments_lexer": "ipython3",
   "version": "3.8.18"
  }
 },
 "nbformat": 4,
 "nbformat_minor": 5
}
